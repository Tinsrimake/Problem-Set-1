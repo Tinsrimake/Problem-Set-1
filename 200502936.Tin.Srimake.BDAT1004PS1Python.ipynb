{
 "cells": [
  {
   "cell_type": "markdown",
   "id": "9080b01c",
   "metadata": {},
   "source": [
    "Question 6 Python"
   ]
  },
  {
   "cell_type": "code",
   "execution_count": 72,
   "id": "58344804",
   "metadata": {},
   "outputs": [
    {
     "name": "stdout",
     "output_type": "stream",
     "text": [
      "Enter word: happy\n",
      ">>> pig('happy')\n",
      "appyhay\n",
      "Enter word: Enter\n",
      ">>> pig('Enter')\n",
      "enterway\n"
     ]
    }
   ],
   "source": [
    "pig = input('Enter word: ')\n",
    "first = pig[0]\n",
    "if first.lower() in ['a', 'e', 'i', 'o', 'u']:\n",
    "    print(\">>> pig('{}')\" .format(pig))\n",
    "    print(pig.lower()+'way')\n",
    "else:\n",
    "    print(\">>> pig('{}')\" .format(pig))\n",
    "    print(pig[1:5] + pig[:1].lower() + 'ay')\n",
    "    \n",
    "pig = input('Enter word: ')\n",
    "first = pig[0]\n",
    "if first.lower() in ['a', 'e', 'i', 'o', 'u']:\n",
    "    print(\">>> pig('{}')\" .format(pig))\n",
    "    print(pig.lower()+'way')\n",
    "else:\n",
    "    print(\">>> pig('{}')\" .format(pig))\n",
    "    print(pig[1:5] + pig[:1].lower() + 'ay')"
   ]
  },
  {
   "cell_type": "markdown",
   "id": "ef247c4e",
   "metadata": {},
   "source": [
    "Question 7 Python"
   ]
  },
  {
   "cell_type": "code",
   "execution_count": 78,
   "id": "d329320e",
   "metadata": {},
   "outputs": [
    {
     "name": "stdout",
     "output_type": "stream",
     "text": [
      ">>> bldcount('bloodtype1.txt')\n",
      "There are 15 patients of blood type A.\n",
      "There are one patients of blood type B.\n",
      "There are 13 patients of blood type AB.\n",
      "There are 15 patients of blood type O.\n",
      "There are no patients of blood type OO.\n"
     ]
    }
   ],
   "source": [
    "infile = open('bloodtype1.txt')\n",
    "print(\">>> bldcount('\" + infile.name + \"')\")\n",
    "content = infile.read()\n",
    "\n",
    "if content.count('A ') > 1:\n",
    "    print('There are {} patients of blood type A.'.format(content.count('A ')))\n",
    "elif content.count('A ') == 1:\n",
    "    print('There are one patients of blood type A.')\n",
    "elif content.count('A ') == 0:\n",
    "    print('There are no patients of blood type A.')\n",
    "else:\n",
    "    print('There are data issue for patients of blood type A.')\n",
    "\n",
    "if content.count(' B') > 1:\n",
    "    print('There are {} patients of blood type B.'.format(content.count(' B')))\n",
    "elif content.count(' B') == 1:\n",
    "    print('There are one patients of blood type B.')\n",
    "elif content.count(' B') == 0:\n",
    "    print('There are no patients of blood type B.')\n",
    "else:\n",
    "    print('There are data issue for patients of blood type B.')\n",
    "    \n",
    "if content.count('AB') > 1:\n",
    "    print('There are {} patients of blood type AB.'.format(content.count('AB')))\n",
    "elif content.count('AB') == 1:\n",
    "    print('There are one patients of blood type AB.')\n",
    "elif content.count('AB') == 0:\n",
    "    print('There are no patients of blood type AB.')\n",
    "else:\n",
    "    print('There are data issue for patients of blood type AB.')\n",
    "    \n",
    "if content.count('O') > 1:\n",
    "    print('There are {} patients of blood type O.'.format(content.count('O')))\n",
    "elif content.count('O') == 1:\n",
    "    print('There are one patients of blood type O.')\n",
    "elif content.count('O') == 0:\n",
    "    print('There are no patients of blood type O.')\n",
    "else:\n",
    "    print('There are data issue for patients of blood type O.')\n",
    "    \n",
    "if content.count('OO') > 1:\n",
    "    print('There are {} patients of blood type OO.'.format(content.count('OO')))\n",
    "elif content.count('OO') == 1:\n",
    "    print('There are one patients of blood type OO.')\n",
    "elif content.count('OO') == 0:\n",
    "    print('There are no patients of blood type OO.')\n",
    "else:\n",
    "    print('There are data issue for patients of blood type OO.')"
   ]
  },
  {
   "cell_type": "markdown",
   "id": "fa2d7eb3",
   "metadata": {},
   "source": [
    "Question 8 Python"
   ]
  },
  {
   "cell_type": "code",
   "execution_count": 162,
   "id": "b2a50b30",
   "metadata": {},
   "outputs": [
    {
     "name": "stdout",
     "output_type": "stream",
     "text": [
      "Enter currency: EUR\n",
      "Enter amount: 100\n",
      ">>> curconv('EUR', 100)\n",
      "122.96544\n",
      "Enter currency: JPY\n",
      "Enter amount: 100\n",
      ">>> curconv('JPY', 100)\n",
      "1.2414\n"
     ]
    }
   ],
   "source": [
    "dictionary = {}\n",
    "infile = open('currencies.txt')\n",
    "for line in infile:\n",
    "    key, value = line[0:13].split()\n",
    "    dictionary[key] = value\n",
    "\n",
    "currency = input('Enter currency: ')\n",
    "amount = input('Enter amount: ')\n",
    "print(\">>> curconv('{}', {})\".format(currency, amount))\n",
    "if currency in dictionary:\n",
    "    print(float(amount)*float(dictionary.pop(currency)))\n",
    "\n",
    "currency = input('Enter currency: ')\n",
    "amount = input('Enter amount: ')\n",
    "print(\">>> curconv('{}', {})\".format(currency, amount))\n",
    "if currency in dictionary:\n",
    "    print(float(amount)*float(dictionary.pop(currency)))\n",
    "\n",
    "\n",
    "\n",
    "\n",
    "\n",
    "\n"
   ]
  },
  {
   "cell_type": "markdown",
   "id": "061ff2bb",
   "metadata": {},
   "source": [
    "Question 9 Python"
   ]
  },
  {
   "cell_type": "markdown",
   "id": "1c646fd8",
   "metadata": {},
   "source": [
    "6 + 'a'\n",
    "can't combind integer with string\n",
    "\n",
    "Referring to the 12th in 10 item list\n",
    "List index out of reach\n",
    "\n",
    "Out of range function's(math.sqrt(-1.0))\n",
    "Math domain error\n",
    "\n",
    "print(x) without define x\n",
    "name 'x' is not defined\n",
    "\n",
    "Trying to open file that dose not exist\n",
    "No such file or directory"
   ]
  },
  {
   "cell_type": "markdown",
   "id": "17d60974",
   "metadata": {},
   "source": [
    "Question 10 Python"
   ]
  },
  {
   "cell_type": "code",
   "execution_count": 122,
   "id": "a7dc3dca",
   "metadata": {},
   "outputs": [
    {
     "name": "stdout",
     "output_type": "stream",
     "text": [
      "Enter text: apple\n",
      ">>> frequencies('apple')\n",
      "[0, 0, 0, 0, 0, 0, 0, 0, 0, 0, 0, 0, 0, 0, 0, 0, 0, 0, 0, 0, 0, 0, 0, 0, 0, 0]\n"
     ]
    }
   ],
   "source": [
    "#I have no clue why it not working while I try the other way around with\n",
    "#for loop which is working, just only show list with the range of the input\n",
    "#and not in alphabetical order.\n",
    "textr = input('Enter text: ')\n",
    "print(\">>> frequencies('{}')\".format(textr))\n",
    "textl = textr.lower()\n",
    "text = textl.split(' ')\n",
    "string =''.join(text)\n",
    "textList = list(string)\n",
    "\n",
    "alpString = 'abcdefghijklmnopqrstuvwxyz'\n",
    "alpList = list(alpString)\n",
    "def textCount(item):    \n",
    "    counter = {}\n",
    "    for item in alpList:\n",
    "        if item in counter:\n",
    "            counter[item] += 1\n",
    "        else:\n",
    "            counter[item] = 0\n",
    "    return counter\n",
    "\n",
    "print(list(dict.values(textCount(textList))))\n"
   ]
  },
  {
   "cell_type": "code",
   "execution_count": null,
   "id": "068bd972",
   "metadata": {},
   "outputs": [],
   "source": []
  },
  {
   "cell_type": "code",
   "execution_count": null,
   "id": "c1cbe2cd",
   "metadata": {},
   "outputs": [],
   "source": []
  }
 ],
 "metadata": {
  "kernelspec": {
   "display_name": "Python 3 (ipykernel)",
   "language": "python",
   "name": "python3"
  },
  "language_info": {
   "codemirror_mode": {
    "name": "ipython",
    "version": 3
   },
   "file_extension": ".py",
   "mimetype": "text/x-python",
   "name": "python",
   "nbconvert_exporter": "python",
   "pygments_lexer": "ipython3",
   "version": "3.9.7"
  }
 },
 "nbformat": 4,
 "nbformat_minor": 5
}
