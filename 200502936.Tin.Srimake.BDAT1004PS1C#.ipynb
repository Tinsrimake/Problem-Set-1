{
 "cells": [
  {
   "cell_type": "markdown",
   "id": "a1ee5f3c",
   "metadata": {},
   "source": [
    "Question 1 C#"
   ]
  },
  {
   "cell_type": "code",
   "execution_count": null,
   "id": "c3078f96",
   "metadata": {},
   "outputs": [],
   "source": [
    "5         = Integer\n",
    "5.0       = Floating point number\n",
    "5 > 1     = Boolean\n",
    "'5'       = Character\n",
    "5 * 2     = Integer\n",
    "'5' * 2   = Character\n",
    "'5' + '2' = Character\n",
    "5 / 2     = Floating point number\n",
    "5 % 2     = Integer\n",
    "{5, 2, 1} = Array\n",
    "5 == 3    = Boolean\n",
    "Pi        = Decimal"
   ]
  },
  {
   "cell_type": "markdown",
   "id": "c2a26f6a",
   "metadata": {},
   "source": [
    "Question 2 C# a."
   ]
  },
  {
   "cell_type": "code",
   "execution_count": 9,
   "id": "5634369f",
   "metadata": {},
   "outputs": [
    {
     "name": "stdout",
     "output_type": "stream",
     "text": [
      "Supercalifragilisticexpialidocious contain 34 letters.\r\n"
     ]
    }
   ],
   "source": [
    "string name = \"Supercalifragilisticexpialidocious\";\n",
    "int count = name.Length;\n",
    "Console.WriteLine(\"Supercalifragilisticexpialidocious contain {0} letters.\", count);"
   ]
  },
  {
   "cell_type": "markdown",
   "id": "83aa24b2",
   "metadata": {},
   "source": [
    "Question 2 C# b."
   ]
  },
  {
   "cell_type": "code",
   "execution_count": 8,
   "id": "ebf01d2f",
   "metadata": {},
   "outputs": [
    {
     "name": "stdout",
     "output_type": "stream",
     "text": [
      "Yes, Supercalifragilisticexpialidocious dose contain ice.\r\n"
     ]
    }
   ],
   "source": [
    "string name = \"Supercalifragilisticexpialidocious\";\n",
    "int index = name.IndexOf(\"ice\");\n",
    "if(index == -1)\n",
    "{\n",
    "Console.WriteLine(\"No, Supercalifragilisticexpialidocious dosen't contain ice.\");\n",
    "}\n",
    "Console.WriteLine(\"Yes, Supercalifragilisticexpialidocious dose contain ice.\");\n",
    "\n"
   ]
  },
  {
   "cell_type": "markdown",
   "id": "14fcf5a0",
   "metadata": {},
   "source": [
    "Question 2 C# c."
   ]
  },
  {
   "cell_type": "code",
   "execution_count": 6,
   "id": "de30be43",
   "metadata": {},
   "outputs": [
    {
     "name": "stdout",
     "output_type": "stream",
     "text": [
      "Supercalifragilisticexpialidocious and Bababadalgharaghtakamminarronnkonn is the same length.\r\n"
     ]
    }
   ],
   "source": [
    "string name1 = \"Supercalifragilisticexpialidocious\";\n",
    "string name2 = \"Honorificabilitudinitatibus\";\n",
    "string name3 = \"Bababadalgharaghtakamminarronnkonn\";\n",
    "\n",
    "int count1 = name1.Length;\n",
    "int count2 = name2.Length;\n",
    "int count3 = name3.Length;\n",
    "\n",
    "if(count1 > count2 && count1 > count3)\n",
    "{\n",
    "    \n",
    "    Console.WriteLine(\"{0} is the longest word.\", name1);\n",
    "}    \n",
    "    \n",
    "else if(count2 > count1 && count2 > count3)\n",
    "{\n",
    "\n",
    "    Console.WriteLine(\"{0} is the longest word.\", name2);\n",
    "}\n",
    "\n",
    "else if(count3 > count1 && count3 > count2)\n",
    "{\n",
    "    Console.WriteLine(\"{0} is the longest word.\", name3);\n",
    "}\n",
    "\n",
    "else if(count1 == count2)\n",
    "    {\n",
    "    Console.WriteLine(\"{0} and {1} is the same length.\", name1, name2);\n",
    "    }\n",
    "\n",
    "else if(count1 == count3)\n",
    "    {\n",
    "    Console.WriteLine(\"{0} and {1} is the same length.\", name1, name3);\n",
    "    }\n",
    "\n",
    "else if(count2 == count3)\n",
    "    {\n",
    "    Console.WriteLine(\"{0} and {1} is the same length.\", name2, name3);\n",
    "    }\n",
    "\n",
    "else\n",
    "    {\n",
    "    Console.WriteLine(\"No Answer\");\n",
    "    }\n"
   ]
  },
  {
   "cell_type": "markdown",
   "id": "8a4296d2",
   "metadata": {},
   "source": [
    "Question 2 C# d."
   ]
  },
  {
   "cell_type": "code",
   "execution_count": 10,
   "id": "afce77f2",
   "metadata": {},
   "outputs": [
    {
     "name": "stdout",
     "output_type": "stream",
     "text": [
      "Bartok is the First name in dictionary.\n",
      "Buxtehude is the last name in dictionary.\n"
     ]
    }
   ],
   "source": [
    "var words = new List<string>{\"Berlioz\", \"Borodin\", \"Brian\", \"Bartok\",\n",
    "                             \"Bellini\", \"Buxtehude\", \"Bernstein\"};\n",
    "words.Sort();\n",
    "\n",
    "Console.WriteLine(\"{0} is the First name in dictionary.\", words.FirstOrDefault());\n",
    "\n",
    "words.Reverse();\n",
    "\n",
    "Console.WriteLine(\"{0} is the last name in dictionary.\", words.FirstOrDefault());\n"
   ]
  },
  {
   "cell_type": "markdown",
   "id": "c6e87f26",
   "metadata": {},
   "source": [
    "Question 3 C#"
   ]
  },
  {
   "cell_type": "code",
   "execution_count": 4,
   "id": "8e3f4198",
   "metadata": {},
   "outputs": [
    {
     "name": "stdout",
     "output_type": "stream",
     "text": [
      ">>> triangleArea(2, 2, 2)\n",
      "1.7320508075688772\n"
     ]
    }
   ],
   "source": [
    "int a, b, c, s;\n",
    "a = 2;\n",
    "b = 2;\n",
    "c = 2;\n",
    "s = (a + b + c) / 2;\n",
    "double area = Math.Sqrt(s * (s - a) * (s - b)*(s - c));\n",
    "\n",
    "Console.WriteLine(\">>> triangleArea({0}, {1}, {2})\", a, b, c);\n",
    "Console.WriteLine(area);\n"
   ]
  },
  {
   "cell_type": "markdown",
   "id": "010a2dd4",
   "metadata": {},
   "source": [
    "Question 4 C#"
   ]
  },
  {
   "cell_type": "code",
   "execution_count": 3,
   "id": "f09396b8",
   "metadata": {},
   "outputs": [
    {
     "name": "stdout",
     "output_type": "stream",
     "text": [
      "Type Number: Type Number: Type Number: Type Number: Type Number: The Even elements are: \n",
      "0 0 0 0 0  \n",
      "The Odd elements are: \n"
     ]
    }
   ],
   "source": [
    "//work on Microsoft Visual Studio\n",
    "int[] array = new int[5];\n",
    "for (int l = 0; l < array.Length; l++)\n",
    "{\n",
    "    Console.Write(\"Type Number: \");\n",
    "    array[l] = Convert.ToInt16(Console.ReadLine());\n",
    "}\n",
    "\n",
    "int[] arrayEven = new int[5];\n",
    "int[] arrayOdd = new int[5];\n",
    "int i, j = 0, k = 0;\n",
    "\n",
    "for (i = 0; i < 5; i++)\n",
    "{\n",
    "    if (array[i] % 2 == 0)\n",
    "    {\n",
    "        arrayEven[j] = array[i];\n",
    "        j++;\n",
    "    }\n",
    "    else\n",
    "    {\n",
    "        arrayOdd[k] = array[i];\n",
    "        k++;\n",
    "    }\n",
    "}\n",
    "\n",
    "Console.WriteLine(\"The Even elements are: \");\n",
    "for (i = 0; i < j; i++)\n",
    "{\n",
    "    Console.Write(\"{0} \", arrayEven[i]);\n",
    "}\n",
    "Console.WriteLine(\" \");\n",
    "Console.WriteLine(\"The Odd elements are: \");\n",
    "for (i = 0; i < k; i++)\n",
    "{\n",
    "    Console.Write(\"{0} \", arrayOdd[i]);\n",
    "}"
   ]
  },
  {
   "cell_type": "markdown",
   "id": "6956b166",
   "metadata": {},
   "source": [
    "Question 5 C# a."
   ]
  },
  {
   "cell_type": "code",
   "execution_count": 179,
   "id": "948d9da5",
   "metadata": {},
   "outputs": [
    {
     "name": "stdout",
     "output_type": "stream",
     "text": [
      ">>> inside(1, 1, 0, 0, 2, 3)\n",
      "Ture\n",
      ">>> inside(-1, -1, 0, 0, 2, 3)\n",
      "False\n"
     ]
    }
   ],
   "source": [
    "int[] inside1 = new int[6] {1, 1, 0, 0, 2, 3};\n",
    "int a1 = inside1[0];\n",
    "int b1 = inside1[1];\n",
    "int c1 = inside1[2];\n",
    "int d1 = inside1[3];\n",
    "int e1 = inside1[4];\n",
    "int f1 = inside1[5];\n",
    "\n",
    "if(inside1[2] < inside1[0] && inside1[0] < inside1[4])\n",
    "{\n",
    "    if(inside1[3] < inside1[1] && inside1[1] < inside1[5])\n",
    "    {   \n",
    "    Console.WriteLine(\">>> inside({0}, {1}, {2}, {3}, {4}, {5})\"\n",
    "                      , a1, b1, c1, d1, e1, f1);\n",
    "    Console.WriteLine(\"Ture\");\n",
    "    }\n",
    "    else\n",
    "    {\n",
    "        Console.WriteLine(\">>> inside({0}, {1}, {2}, {3}, {4}, {5})\"\n",
    "                          , a1, b1, c1, d1, e1, f1);\n",
    "        Console.WriteLine(\"False\");\n",
    "    }\n",
    "   \n",
    "}\n",
    "else\n",
    "    {\n",
    "        Console.WriteLine(\">>> inside({0}, {1}, {2}, {3}, {4}, {5})\"\n",
    "                          , a1, b1, c1, d1, e1, f1);\n",
    "        Console.WriteLine(\"False\");\n",
    "    }\n",
    "\n",
    "\n",
    "\n",
    "int[] inside2 = new int[6] {-1, -1, 0, 0, 2, 3};\n",
    "int a2 = inside2[0];\n",
    "int b2 = inside2[1];\n",
    "int c2 = inside2[2];\n",
    "int d2 = inside2[3];\n",
    "int e2 = inside2[4];\n",
    "int f2 = inside2[5];\n",
    "\n",
    "if(inside2[2] < inside2[0] && inside2[0] < inside2[4])\n",
    "{\n",
    "    if(inside2[3] < inside2[1] && inside2[1] < inside2[5])\n",
    "    {   \n",
    "    Console.WriteLine(\">>> inside({0}, {1}, {2}, {3}, {4}, {5})\"\n",
    "                      , a2, b2, c2, d2, e2, f2);\n",
    "    Console.WriteLine(\"Ture\");\n",
    "\n",
    "    }\n",
    "    else\n",
    "    {\n",
    "        Console.WriteLine(\">>> inside({0}, {1}, {2}, {3}, {4}, {5})\"\n",
    "                          , a2, b2, c2, d2, e2, f2);\n",
    "        Console.WriteLine(\"False\");\n",
    "    }\n",
    "   \n",
    "}\n",
    "else\n",
    "    {\n",
    "        Console.WriteLine(\">>> inside({0}, {1}, {2}, {3}, {4}, {5})\"\n",
    "                          , a2, b2, c2, d2, e2, f2);\n",
    "        Console.WriteLine(\"False\");\n",
    "    }\n",
    "    \n",
    "    \n",
    "    \n",
    "    \n",
    "    \n"
   ]
  },
  {
   "cell_type": "markdown",
   "id": "cef4d831",
   "metadata": {},
   "source": [
    "Question 5 C# b."
   ]
  },
  {
   "cell_type": "code",
   "execution_count": 183,
   "id": "04c32a9b",
   "metadata": {},
   "outputs": [
    {
     "name": "stdout",
     "output_type": "stream",
     "text": [
      ">>> inside(1, 1, 0.3, 0.5, 1.1, 0.7)\n",
      "False\n",
      ">>> inside(1, 1, 0.5, 0.2, 1.1, 2)\n",
      "Ture\n"
     ]
    }
   ],
   "source": [
    "decimal[] rectangle1 = new decimal[6] {1, 1, 0.3m, 0.5m, 1.1m, 0.7m};\n",
    "decimal a1 = rectangle1[0];\n",
    "decimal b1 = rectangle1[1];\n",
    "decimal c1 = rectangle1[2];\n",
    "decimal d1 = rectangle1[3];\n",
    "decimal e1 = rectangle1[4];\n",
    "decimal f1 = rectangle1[5];\n",
    "\n",
    "int status1 = a1.CompareTo(c1);\n",
    "int status2 = e1.CompareTo(a1);\n",
    "int status3 = b1.CompareTo(d1);\n",
    "int status4 = f1.CompareTo(b1);\n",
    "\n",
    "if(status1 > 0 && status2 > 0)\n",
    "{\n",
    "    if(status3 > 0 && status4 > 0)\n",
    "    {   \n",
    "        Console.WriteLine(\">>> inside({0}, {1}, {2}, {3}, {4}, {5})\"\n",
    "                      , a1, b1, c1, d1, e1, f1);\n",
    "        Console.WriteLine(\"Ture\");\n",
    "\n",
    "    }\n",
    "    else\n",
    "    {\n",
    "        Console.WriteLine(\">>> inside({0}, {1}, {2}, {3}, {4}, {5})\"\n",
    "                          , a1, b1, c1, d1, e1, f1);\n",
    "        Console.WriteLine(\"False\");\n",
    "    }\n",
    "}\n",
    "else\n",
    "    {\n",
    "        Console.WriteLine(\">>> inside({0}, {1}, {2}, {3}, {4}, {5})\"\n",
    "                          , a1, b1, c1, d1, e1, f1);\n",
    "        Console.WriteLine(\"False\");\n",
    "    }\n",
    "\n",
    "\n",
    "\n",
    "decimal[] rectangle2 = new decimal[6] {1, 1, 0.5m, 0.2m, 1.1m, 2m};\n",
    "decimal a2 = rectangle2[0];\n",
    "decimal b2 = rectangle2[1];\n",
    "decimal c2 = rectangle2[2];\n",
    "decimal d2 = rectangle2[3];\n",
    "decimal e2 = rectangle2[4];\n",
    "decimal f2 = rectangle2[5];\n",
    "\n",
    "int status5 = a2.CompareTo(c2);\n",
    "int status6 = e2.CompareTo(a2);\n",
    "int status7 = b2.CompareTo(d2);\n",
    "int status8 = f2.CompareTo(b2);\n",
    "\n",
    "if(status5 > 0 && status6 > 0)\n",
    "{\n",
    "    if(status7 > 0 && status8 > 0)\n",
    "    {   \n",
    "        Console.WriteLine(\">>> inside({0}, {1}, {2}, {3}, {4}, {5})\"\n",
    "                      , a2, b2, c2, d2, e2, f2);\n",
    "        Console.WriteLine(\"Ture\");\n",
    "\n",
    "    }\n",
    "    else\n",
    "    {\n",
    "        Console.WriteLine(\">>> inside({0}, {1}, {2}, {3}, {4}, {5})\"\n",
    "                          , a2, b2, c2, d2, e2, f2);\n",
    "        Console.WriteLine(\"False\");\n",
    "    }\n",
    "}\n",
    "else\n",
    "    {\n",
    "        Console.WriteLine(\">>> inside({0}, {1}, {2}, {3}, {4}, {5})\"\n",
    "                          , a2, b2, c2, d2, e2, f2);\n",
    "        Console.WriteLine(\"False\");\n",
    "    }\n",
    "\n",
    "\n"
   ]
  },
  {
   "cell_type": "code",
   "execution_count": null,
   "id": "0b4fc510",
   "metadata": {},
   "outputs": [],
   "source": []
  },
  {
   "cell_type": "code",
   "execution_count": null,
   "id": "39510d63",
   "metadata": {},
   "outputs": [],
   "source": []
  },
  {
   "cell_type": "code",
   "execution_count": null,
   "id": "9d4eb4fb",
   "metadata": {},
   "outputs": [],
   "source": []
  },
  {
   "cell_type": "code",
   "execution_count": null,
   "id": "66da8f5d",
   "metadata": {},
   "outputs": [],
   "source": []
  },
  {
   "cell_type": "code",
   "execution_count": null,
   "id": "a7ce46a7",
   "metadata": {},
   "outputs": [],
   "source": []
  }
 ],
 "metadata": {
  "kernelspec": {
   "display_name": ".NET (C#)",
   "language": "C#",
   "name": ".net-csharp"
  },
  "language_info": {
   "file_extension": ".cs",
   "mimetype": "text/x-csharp",
   "name": "C#",
   "pygments_lexer": "csharp",
   "version": "8.0"
  }
 },
 "nbformat": 4,
 "nbformat_minor": 5
}
